{
 "cells": [
  {
   "cell_type": "code",
   "execution_count": 1,
   "metadata": {},
   "outputs": [],
   "source": [
    "import io\n",
    "import random\n",
    "import string \n",
    "import numpy as np\n",
    "from sklearn.feature_extraction.text import TfidfVectorizer\n",
    "from sklearn.metrics.pairwise import cosine_similarity\n",
    "import warnings\n",
    "import nltk\n",
    "from nltk.stem import WordNetLemmatizer\n",
    "\n",
    "# nltk.download('popular', quiet=True) # for downloading packages\n",
    "# nltk.download('punkt') # first-time use only\n",
    "# nltk.download('wordnet') # first-time use only"
   ]
  },
  {
   "cell_type": "code",
   "execution_count": 2,
   "metadata": {},
   "outputs": [],
   "source": [
    "#Access ALICE bot data\n",
    "with open('D:/Documents/!NLP/bot.txt','r', encoding='utf8', errors ='ignore') as fin:\n",
    "    raw = fin.read().lower()\n",
    "\n",
    "#Tokenize\n",
    "sent_tokens = nltk.sent_tokenize(raw)\n",
    "word_tokens  = nltk.word_tokenize(raw)\n",
    "\n",
    "#Preprocess\n",
    "lemmatizer = WordNetLemmatizer()\n",
    "def LemTokens(tokens):\n",
    "    return [lemmatizer.lemmatize(token) for token in tokens]\n",
    "#labmda tokens : lemmatizer.lemmatize(token)"
   ]
  },
  {
   "cell_type": "code",
   "execution_count": 3,
   "metadata": {},
   "outputs": [],
   "source": [
    "remove_punct_dict = dict((ord(punct), None) for punct in string.punctuation)\n",
    "\n",
    "def LemNormalize(text):\n",
    "    return LemTokens(nltk.word_tokenize(text.lower().translate(remove_punct_dict)))\n",
    "\n",
    "#Intro hard code \n",
    "GREETING_INPUTS = (\"hello\", \"hi\", \"greetings\",\"hey\",)\n",
    "GREETING_RESPONSES = [\"hi\", \"hey\", \"well hello there\", \"hello\"]\n",
    "\n",
    "def greeting(sent):\n",
    "    for word in sent.split():\n",
    "        if word.lower() in GREETING_INPUTS:\n",
    "            return random.choice(GREETING_RESPONSES)\n",
    "\n",
    "# Generating response\n",
    "def response(user_response):\n",
    "    bot_reply=''\n",
    "    sent_tokens.append(user_response)\n",
    "    TermfreqVec = TfidfVectorizer(tokenizer=LemNormalize, stop_words='english')\n",
    "    termfidf = TermfreqVec.fit_transform(sent_tokens)\n",
    "    vals = cosine_similarity(termfidf[-1], termfidf)\n",
    "    idx=vals.argsort()[0][-2]\n",
    "    flat = vals.flatten()\n",
    "    flat.sort()\n",
    "    req_termfidf = flat[-2]\n",
    "    if(req_termfidf==0):\n",
    "        bot_reply=bot_reply+\"Sorry?\"\n",
    "        return bot_reply\n",
    "    else:\n",
    "\n",
    "        bot_reply = robo_response+sent_tokens[idx]\n",
    "        return bot_reply"
   ]
  },
  {
   "cell_type": "code",
   "execution_count": 4,
   "metadata": {},
   "outputs": [
    {
     "name": "stdout",
     "output_type": "stream",
     "text": [
      "Mat_Bot: My name is Mat_Bot. What can I help you with today?\n",
      "Hi\n",
      "{:}: hi\n",
      "thanks\n",
      "Mat_Bot: My pleasure\n"
     ]
    }
   ],
   "source": [
    "#simple bot makeup \n",
    "bot_name = \"Mat_Bot\"\n",
    "cont=True\n",
    "print(\"{:}: My name is Mat_Bot. What can I help you with today?\".format(bot_name))\n",
    "while(cont==True):\n",
    "\n",
    "    user_response = input()\n",
    "    user_response=user_response.lower()\n",
    "    if(user_response!='bye'):\n",
    "        if(user_response=='thanks' or user_response=='thank you' ):\n",
    "            cont=False\n",
    "            print(\"{:}: My pleasure\".format(bot_name))\n",
    "\n",
    "        else:\n",
    "            if(greeting(user_response)!=None):\n",
    "                print(\"{:}: \"+greeting(user_response).format(bot_name))\n",
    "            else:\n",
    "                print(\"{:}: \".format(bot_name),end=\"\")\n",
    "                print(response(user_response))\n",
    "                sent_tokens.remove(user_response)\n",
    "    else:\n",
    "        cont=False\n",
    "        print(\"{:}: Bye! take care..\".format(bot_name))    "
   ]
  },
  {
   "cell_type": "code",
   "execution_count": null,
   "metadata": {},
   "outputs": [],
   "source": []
  },
  {
   "cell_type": "code",
   "execution_count": null,
   "metadata": {},
   "outputs": [],
   "source": []
  }
 ],
 "metadata": {
  "kernelspec": {
   "display_name": "Python 3",
   "language": "python",
   "name": "python3"
  },
  "language_info": {
   "codemirror_mode": {
    "name": "ipython",
    "version": 3
   },
   "file_extension": ".py",
   "mimetype": "text/x-python",
   "name": "python",
   "nbconvert_exporter": "python",
   "pygments_lexer": "ipython3",
   "version": "3.7.4"
  }
 },
 "nbformat": 4,
 "nbformat_minor": 2
}
